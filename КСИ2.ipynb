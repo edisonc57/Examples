{
  "nbformat": 4,
  "nbformat_minor": 0,
  "metadata": {
    "colab": {
      "provenance": [],
      "collapsed_sections": [
        "UeUtcgVy7J1P",
        "1z04KUmI7U6G",
        "ZBC6awBL61nO",
        "q36QN4dy-Koz"
      ]
    },
    "kernelspec": {
      "name": "python3",
      "display_name": "Python 3"
    },
    "language_info": {
      "name": "python"
    }
  },
  "cells": [
    {
      "cell_type": "markdown",
      "source": [
        "#Obtener los de datos"
      ],
      "metadata": {
        "id": "UeUtcgVy7J1P"
      }
    },
    {
      "cell_type": "markdown",
      "source": [
        "*Lo primero que debemos hacer es importar las librerías. Las primeras, como siempre, serán numpy y pandas.*"
      ],
      "metadata": {
        "id": "uG5FWmDG2uDk"
      }
    },
    {
      "cell_type": "code",
      "execution_count": 28,
      "metadata": {
        "id": "BSG-0L8n2X9j"
      },
      "outputs": [],
      "source": [
        "import numpy as np\n",
        "import pandas as pd"
      ]
    },
    {
      "cell_type": "markdown",
      "source": [
        "*Seguidamente importamos los datos, para ello se descarga el archivo csv de la página de Kaggle y se guarda en el computador en donde se está trabajando. Posteriormente precedimos a leer el archivo para ello utilizamos la instrucción **read_csv**.*"
      ],
      "metadata": {
        "id": "1eAUIACF3Ww6"
      }
    },
    {
      "cell_type": "code",
      "source": [
        "iris = pd.read_csv(\"/Iris.csv\")"
      ],
      "metadata": {
        "id": "s60Avn4n3bWL"
      },
      "execution_count": 29,
      "outputs": []
    },
    {
      "cell_type": "markdown",
      "source": [
        "#Entender los datos"
      ],
      "metadata": {
        "id": "1z04KUmI7U6G"
      }
    },
    {
      "cell_type": "markdown",
      "source": [
        "*Visualizamos ahora los primeros 5 datos del dataset utilizando la instrucción head.*"
      ],
      "metadata": {
        "id": "fR-9gn7q4nwZ"
      }
    },
    {
      "cell_type": "code",
      "source": [
        "print(iris.head())"
      ],
      "metadata": {
        "colab": {
          "base_uri": "https://localhost:8080/"
        },
        "id": "UD9j2Chd4qSJ",
        "outputId": "7f9042c1-1a82-4c0f-a8fe-37612b0e6ecb"
      },
      "execution_count": 30,
      "outputs": [
        {
          "output_type": "stream",
          "name": "stdout",
          "text": [
            "   Id  SepalLengthCm  SepalWidthCm  PetalLengthCm  PetalWidthCm      Species\n",
            "0   1            5.1           3.5            1.4           0.2  Iris-setosa\n",
            "1   2            4.9           3.0            1.4           0.2  Iris-setosa\n",
            "2   3            4.7           3.2            1.3           0.2  Iris-setosa\n",
            "3   4            4.6           3.1            1.5           0.2  Iris-setosa\n",
            "4   5            5.0           3.6            1.4           0.2  Iris-setosa\n"
          ]
        }
      ]
    },
    {
      "cell_type": "markdown",
      "source": [
        "*Como podemos observar el dataset cuenta 6 columnas, en donde están las características de ancho y longitud del sépalo y pétalo, a su vez el nombre de cada una de las especies. Pero adicionalmente a todo esto se encuentra una columna llamada ID que está demás, ya que una vez que los datos se convierten en pandas se crea automáticamente una columna con la numeración por lo que podemos eliminar la columna ID. Para esto utilizamos la instrucción drop.*"
      ],
      "metadata": {
        "id": "1kabgdrd41wA"
      }
    },
    {
      "cell_type": "code",
      "source": [
        "#Eliminamos la primera columna ID\n",
        "iris = iris.drop('Id',axis=1)\n",
        "print(iris.head())"
      ],
      "metadata": {
        "colab": {
          "base_uri": "https://localhost:8080/"
        },
        "id": "ghHRPjB_45HK",
        "outputId": "525babc1-0cc5-4eb2-b3d8-2b8a86452d33"
      },
      "execution_count": 31,
      "outputs": [
        {
          "output_type": "stream",
          "name": "stdout",
          "text": [
            "   SepalLengthCm  SepalWidthCm  PetalLengthCm  PetalWidthCm      Species\n",
            "0            5.1           3.5            1.4           0.2  Iris-setosa\n",
            "1            4.9           3.0            1.4           0.2  Iris-setosa\n",
            "2            4.7           3.2            1.3           0.2  Iris-setosa\n",
            "3            4.6           3.1            1.5           0.2  Iris-setosa\n",
            "4            5.0           3.6            1.4           0.2  Iris-setosa\n"
          ]
        }
      ]
    },
    {
      "cell_type": "markdown",
      "source": [
        "*Ahora procedemos a analizar los datos. Acá utilizamos todos los comandos necesarios para entender el dataset.\n",
        "Primeramente, utilizaremos info.* "
      ],
      "metadata": {
        "id": "3TQ3lLw25Mka"
      }
    },
    {
      "cell_type": "code",
      "source": [
        "#Análizamos los datos que tenemos disponibles\n",
        "print('Información del dataset:')\n",
        "print(iris.info())"
      ],
      "metadata": {
        "colab": {
          "base_uri": "https://localhost:8080/"
        },
        "id": "R-EigmLZ5YgI",
        "outputId": "b78bca81-16c5-4a22-a5dd-67fc1717d118"
      },
      "execution_count": 32,
      "outputs": [
        {
          "output_type": "stream",
          "name": "stdout",
          "text": [
            "Información del dataset:\n",
            "<class 'pandas.core.frame.DataFrame'>\n",
            "RangeIndex: 150 entries, 0 to 149\n",
            "Data columns (total 5 columns):\n",
            " #   Column         Non-Null Count  Dtype  \n",
            "---  ------         --------------  -----  \n",
            " 0   SepalLengthCm  150 non-null    float64\n",
            " 1   SepalWidthCm   150 non-null    float64\n",
            " 2   PetalLengthCm  150 non-null    float64\n",
            " 3   PetalWidthCm   150 non-null    float64\n",
            " 4   Species        150 non-null    object \n",
            "dtypes: float64(4), object(1)\n",
            "memory usage: 6.0+ KB\n",
            "None\n"
          ]
        }
      ]
    },
    {
      "cell_type": "markdown",
      "source": [
        "*Acá nos indica que todas las columnas contienen 150 datos,en las primeras tenemos datos flotantes mientras que la última contiene datos objetos y es justamente acá en donde se encuentra la información de las especies de la flor.\n",
        "Seguidamente utilizamos describe. En donde podemos observar los datos estadísticos del dataset.*"
      ],
      "metadata": {
        "id": "h5k8tq9M5k-Q"
      }
    },
    {
      "cell_type": "code",
      "source": [
        "print('Descripción del dataset:')\n",
        "print(iris.describe())"
      ],
      "metadata": {
        "colab": {
          "base_uri": "https://localhost:8080/"
        },
        "id": "eL2Jw1x95qcP",
        "outputId": "7eb3e8f2-13aa-42d2-8526-b3e8fe2f9472"
      },
      "execution_count": 33,
      "outputs": [
        {
          "output_type": "stream",
          "name": "stdout",
          "text": [
            "Descripción del dataset:\n",
            "       SepalLengthCm  SepalWidthCm  PetalLengthCm  PetalWidthCm\n",
            "count     150.000000    150.000000     150.000000    150.000000\n",
            "mean        5.843333      3.054000       3.758667      1.198667\n",
            "std         0.828066      0.433594       1.764420      0.763161\n",
            "min         4.300000      2.000000       1.000000      0.100000\n",
            "25%         5.100000      2.800000       1.600000      0.300000\n",
            "50%         5.800000      3.000000       4.350000      1.300000\n",
            "75%         6.400000      3.300000       5.100000      1.800000\n",
            "max         7.900000      4.400000       6.900000      2.500000\n"
          ]
        }
      ]
    },
    {
      "cell_type": "markdown",
      "source": [
        "*Por último, verificamos la distribución de los datos de acuerdo a las especies de Iris, para ello utilizamos la instrucción groupby, especificando la columna Species y el tamaño de la misma.*"
      ],
      "metadata": {
        "id": "IVpkUP4X6Z7w"
      }
    },
    {
      "cell_type": "code",
      "source": [
        "print('Distribución de las especies de Iris:')\n",
        "print(iris.groupby('Species').size())"
      ],
      "metadata": {
        "colab": {
          "base_uri": "https://localhost:8080/"
        },
        "id": "tagpV-eu6ceJ",
        "outputId": "1513a627-74a9-4fb5-8ec8-f961694528c2"
      },
      "execution_count": 34,
      "outputs": [
        {
          "output_type": "stream",
          "name": "stdout",
          "text": [
            "Distribución de las especies de Iris:\n",
            "Species\n",
            "Iris-setosa        50\n",
            "Iris-versicolor    50\n",
            "Iris-virginica     50\n",
            "dtype: int64\n"
          ]
        }
      ]
    },
    {
      "cell_type": "markdown",
      "source": [
        "*Como podemos observar tenemos 50 datos para cada una de las especies, Iris setosa, Iris versicolor e Iris Virginica.*"
      ],
      "metadata": {
        "id": "LHT9tBof6hH_"
      }
    },
    {
      "cell_type": "markdown",
      "source": [
        "#Visualización de los datos"
      ],
      "metadata": {
        "id": "ZBC6awBL61nO"
      }
    },
    {
      "cell_type": "markdown",
      "source": [
        "*Entendiendo todo esto veamos los datos de manera visual, para ello importamos la librería de matplotlib y procedamos a graficar el dataset.*"
      ],
      "metadata": {
        "id": "P1rN5dJo7INf"
      }
    },
    {
      "cell_type": "code",
      "source": [
        "import matplotlib.pyplot as plt"
      ],
      "metadata": {
        "id": "r7sP1Kk08Rwv"
      },
      "execution_count": 35,
      "outputs": []
    },
    {
      "cell_type": "markdown",
      "source": [
        "*La gráfica a construir será del tipo dispersión, y vamos a graficar primero los datos correspondientes al sépalo. Colocamos en el eje X los datos de longitud y en el eje Y los datos del ancho, a su vez para cada una de las especies de Iris le colocamos un color. Para los datos del Iris setosa los colocamos de color azul, para el Iris Versicolor será de color verde y para el Iris Virginica colocamos los datos de color rojo.*\n",
        "\n",
        "*De igual forma colocamos los nombres correspondientes al eje X y Y y el título de la gráfica y procedemos a graficarlos.*"
      ],
      "metadata": {
        "id": "QT9iOwwl8cXF"
      }
    },
    {
      "cell_type": "code",
      "source": [
        "#Grafico Sepal - Longitud vs Ancho\n",
        "fig = iris[iris.Species == 'Iris-setosa'].plot(kind='scatter', x='SepalLengthCm', y='SepalWidthCm', color='blue', label='Setosa')\n",
        "iris[iris.Species == 'Iris-versicolor'].plot(kind='scatter', x='SepalLengthCm', y='SepalWidthCm', color='green', label='Versicolor', ax=fig)\n",
        "iris[iris.Species == 'Iris-virginica'].plot(kind='scatter', x='SepalLengthCm', y='SepalWidthCm', color='red', label='Virginica', ax=fig)\n",
        "\n",
        "fig.set_xlabel('Sépalo - Longitud')\n",
        "fig.set_ylabel('Sépalo - Ancho')\n",
        "fig.set_title('Sépalo - Longitud vs Ancho')\n",
        "plt.show()"
      ],
      "metadata": {
        "colab": {
          "base_uri": "https://localhost:8080/",
          "height": 0
        },
        "id": "b5puv-xm8heU",
        "outputId": "95f9ef9f-6794-4f9f-d3cc-2456e201f680"
      },
      "execution_count": 36,
      "outputs": [
        {
          "output_type": "display_data",
          "data": {
            "text/plain": [
              "<Figure size 432x288 with 1 Axes>"
            ],
            "image/png": "[encoded data removed]"
          },
          "metadata": {
            "needs_background": "light"
          }
        }
      ]
    },
    {
      "cell_type": "markdown",
      "source": [
        "*Si te fijas en la gráfica los datos están distribuidos de manera casi uniforme sobretodo los correspondientes al Iris setosa, mientras que los correspondientes a versicolor y virginica tienen cualidades algo parecidas por lo que se solapan en ocasiones.*\n",
        "\n",
        "*Ahora procedemos a hacer exactamente lo mismo, pero con la información de los pétalos. Si te fijas el código de programación es exactamente el mismo al anterior lo único diferente es que ahora se especifica los datos del pétalo.*"
      ],
      "metadata": {
        "id": "QBuFck8t97RS"
      }
    },
    {
      "cell_type": "code",
      "source": [
        "#Grafico Pétalo - Longitud vs Ancho\n",
        "fig = iris[iris.Species == 'Iris-setosa'].plot(kind='scatter', x='PetalLengthCm', y='PetalWidthCm', color='blue', label='Setosa')\n",
        "iris[iris.Species == 'Iris-versicolor'].plot(kind='scatter', x='PetalLengthCm', y='PetalWidthCm', color='green', label='Versicolor', ax=fig)\n",
        "iris[iris.Species == 'Iris-virginica'].plot(kind='scatter', x='PetalLengthCm', y='PetalWidthCm', color='red', label='Virginica', ax=fig)\n",
        "\n",
        "fig.set_xlabel('Pétalo - Longitud')\n",
        "fig.set_ylabel('Pétalo - Ancho')\n",
        "fig.set_title('Pétalo Longitud vs Ancho')\n",
        "plt.show()"
      ],
      "metadata": {
        "colab": {
          "base_uri": "https://localhost:8080/",
          "height": 0
        },
        "id": "jBcaYZQH99wz",
        "outputId": "69fe1f7a-513d-4c64-ab5e-8df0bbfe645b"
      },
      "execution_count": 37,
      "outputs": [
        {
          "output_type": "display_data",
          "data": {
            "text/plain": [
              "<Figure size 432x288 with 1 Axes>"
            ],
            "image/png": "[encoded data removed]"
          },
          "metadata": {
            "needs_background": "light"
          }
        }
      ]
    },
    {
      "cell_type": "markdown",
      "source": [
        "*Acá podemos observar una distribución mucho más uniforme en comparación con el sépalo.*\n",
        "\n",
        "*Hasta este momento hemos importado los datos, los hemos analizados e inclusive los hemos graficado, por lo que ha llegado el momento de desarrollar el clasificador utilizando los algoritmos de Machine Learning.*"
      ],
      "metadata": {
        "id": "m30xDqYO-FRj"
      }
    },
    {
      "cell_type": "markdown",
      "source": [
        "#Desarrollo del algoritmo"
      ],
      "metadata": {
        "id": "q36QN4dy-Koz"
      }
    },
    {
      "cell_type": "markdown",
      "source": [
        "*Lo primero que debemos hacer es importar todas las librerías a utilizar, comenzando por train_test_split. Seguidamente por las librerías de los algoritmos, en este caso vamos a trabajar con Regresión Logística, Máquinas de Vectores de Soporte, Vecinos más Cercanos y Árboles de Decisión Clasificación. Recuerda que este es un ejercicio de clasificación por lo que todos los algoritmos a implementar deberán ser para este tipo de problemas.*"
      ],
      "metadata": {
        "id": "EQ9Zj_M8-NRd"
      }
    },
    {
      "cell_type": "code",
      "source": [
        "from sklearn.model_selection import train_test_split\n",
        "from sklearn.linear_model import LogisticRegression\n",
        "from sklearn.svm import SVC\n",
        "from sklearn.neighbors import KNeighborsClassifier\n",
        "from sklearn.tree import DecisionTreeClassifier"
      ],
      "metadata": {
        "id": "9zpUdPGK-Rsi"
      },
      "execution_count": 38,
      "outputs": []
    },
    {
      "cell_type": "markdown",
      "source": [
        "*Acá nos vamos a detener un momento para indicar que en realidad podemos construir varios modelos, el primero de será con todos los datos del dataset, es decir para utilizar este modelo deberás tener la información del sépalo y el pétalo para poderlo utilizar. Pero adicionalmente podemos desarrollar otros dos modelos en donde utilicemos solamente los datos del sépalo y otro con el pétalo. Por lo que al final vamos a tener 3 modelos en total. Adicionalmente, para la construcción de nuestro modelo evaluaremos distintos algoritmos de Machine Learning para encontrar el más adecuado.*\n",
        "\n",
        "*Entonces comencemos a construir nuestro primer modelo con todos los datos, lo primero que debemos hacer es separar los datos con las características, que vendrían siendo todas menos la columna de especies, a estos datos los vamos a llamar “X” y los datos con las etiquetas o respuestas que sería la columna de especies vendrían siendo la variable “y”.*"
      ],
      "metadata": {
        "id": "MScdijBk-mEp"
      }
    },
    {
      "cell_type": "code",
      "source": [
        "#Separo todos los datos con las características y las etiquetas o resultados\n",
        "X = np.array(iris.drop(['Species'], 1))\n",
        "y = np.array(iris['Species'])"
      ],
      "metadata": {
        "colab": {
          "base_uri": "https://localhost:8080/"
        },
        "id": "hQT47LB8-ova",
        "outputId": "e126d98f-a9b0-4ed1-a845-683fb2372feb"
      },
      "execution_count": 39,
      "outputs": [
        {
          "output_type": "stream",
          "name": "stderr",
          "text": [
            "/usr/local/lib/python3.7/dist-packages/ipykernel_launcher.py:2: FutureWarning: In a future version of pandas all arguments of DataFrame.drop except for the argument 'labels' will be keyword-only\n",
            "  \n"
          ]
        }
      ]
    },
    {
      "cell_type": "markdown",
      "source": [
        "*En este punto separamos los datos de entrenamiento y prueba utilizando la instrucción train_test_split.*"
      ],
      "metadata": {
        "id": "4LUjEJNG-8Ph"
      }
    },
    {
      "cell_type": "code",
      "source": [
        "#Separo los datos de \"train\" en entrenamiento y prueba para probar los algoritmos\n",
        "X_train, X_test, y_train, y_test = train_test_split(X, y, test_size=0.2)\n",
        "\n",
        "print('Son {} datos para entrenamiento y {} datos para prueba'.format(X_train.shape[0], X_test.shape[0]))"
      ],
      "metadata": {
        "colab": {
          "base_uri": "https://localhost:8080/"
        },
        "id": "YW-xHBZs--QZ",
        "outputId": "941deec1-aee0-4e5f-d532-4bf8b5c4996b"
      },
      "execution_count": 40,
      "outputs": [
        {
          "output_type": "stream",
          "name": "stdout",
          "text": [
            "Son 120 datos para entrenamiento y 30 datos para prueba\n"
          ]
        }
      ]
    },
    {
      "cell_type": "markdown",
      "source": [
        "*Ahora si empecemos a aplicar los algoritmos de Machine Learning comenzando con Regresión Logística. Obviamente lo primero que debemos hacer es definir el algoritmo, LogisticRegression, seguidamente lo entrenamos utilizando la instrucción fit y realizamos la una predicción utilizando los datos de X_test. Para determinar la precisión o confianza del algoritmo utilizamos la instrucción score para calcularla.*"
      ],
      "metadata": {
        "id": "Ge8Lubcf_EX6"
      }
    },
    {
      "cell_type": "code",
      "source": [
        "#Modelo de Regresión Logística\n",
        "algoritmo = LogisticRegression()\n",
        "algoritmo.fit(X_train, y_train)\n",
        "Y_pred = algoritmo.predict(X_test)\n",
        "print('Precisión Regresión Logística: {}'.format(algoritmo.score(X_train, y_train)))"
      ],
      "metadata": {
        "colab": {
          "base_uri": "https://localhost:8080/"
        },
        "id": "-TGt9u-l_Hlp",
        "outputId": "89ae1529-7bfc-4d60-baaa-936235d6425d"
      },
      "execution_count": 41,
      "outputs": [
        {
          "output_type": "stream",
          "name": "stdout",
          "text": [
            "Precisión Regresión Logística: 0.975\n"
          ]
        }
      ]
    },
    {
      "cell_type": "markdown",
      "source": [
        "*Con ella nos da un resultado de 0,975, lo cual no esta nada mal pero aún así vamos a verificar con otros algoritmos para ver si mejoramos este número.*\n",
        "\n",
        "*Procedemos a desarrollar un nuevo modelo ahora con el algoritmo de Máquinas de Vectores de Soporte, el procedimiento es exactamente igual, primero definimos el algoritmo, en este caso será SVC, lo entrenamos utilizando los datos de entrenamiento, realizamos una predicción y finalmente calculamos la precisión del mismo.*"
      ],
      "metadata": {
        "id": "6QHYz2a6_Y6J"
      }
    },
    {
      "cell_type": "code",
      "source": [
        "#Modelo de Máquinas de Vectores de Soporte\n",
        "algoritmo = SVC()\n",
        "algoritmo.fit(X_train, y_train)\n",
        "Y_pred = algoritmo.predict(X_test)\n",
        "print('Precisión Máquinas de Vectores de Soporte: {}'.format(algoritmo.score(X_train, y_train)))"
      ],
      "metadata": {
        "colab": {
          "base_uri": "https://localhost:8080/"
        },
        "id": "iSszX0t7_v_U",
        "outputId": "9b1732b3-f05e-4322-ebc6-af4890411f3b"
      },
      "execution_count": 42,
      "outputs": [
        {
          "output_type": "stream",
          "name": "stdout",
          "text": [
            "Precisión Máquinas de Vectores de Soporte: 0.975\n"
          ]
        }
      ]
    },
    {
      "cell_type": "markdown",
      "source": [
        "*El resultado es de 0,991, un valor mucho mejor que el que obtuvimos con el anterior algoritmo.*"
      ],
      "metadata": {
        "id": "-htSzr51ALGE"
      }
    },
    {
      "cell_type": "markdown",
      "source": [
        "*Continuemos realizando las evaluaciones de los algoritmos y ahora vamos hacer el cálculo con el algoritmo de K vecinos más cercanos. El procedimiento es el mismo que hicimos con los otros algoritmos, solamente que acá tenemos que definir el número de vecinos que se evaluaran, entonces definimos el algoritmo KNeighborsClassifier y definimos el número de vecinos que sería para nosotros igual a 5, este número podemos cambiarlo y ver como cambia la precisión del algoritmo. Seguidamente entrenamos el algoritmo, realizamos una predicción y finalmente calculamos la precisión del algoritmo.*"
      ],
      "metadata": {
        "id": "EW6pVqtjAMmX"
      }
    },
    {
      "cell_type": "code",
      "source": [
        "#Modelo de Vecinos más Cercanos\n",
        "algoritmo = KNeighborsClassifier(n_neighbors=5)\n",
        "algoritmo.fit(X_train, y_train)\n",
        "Y_pred = algoritmo.predict(X_test)\n",
        "print('Precisión Vecinos más Cercanos: {}'.format(algoritmo.score(X_train, y_train)))"
      ],
      "metadata": {
        "colab": {
          "base_uri": "https://localhost:8080/"
        },
        "id": "-7xbSEKLAQjB",
        "outputId": "81f8bff1-fe44-404f-a8eb-18b43cccdd81"
      },
      "execution_count": 43,
      "outputs": [
        {
          "output_type": "stream",
          "name": "stdout",
          "text": [
            "Precisión Vecinos más Cercanos: 0.9583333333333334\n"
          ]
        }
      ]
    },
    {
      "cell_type": "markdown",
      "source": [
        "*Obtenemos como resultado 0,983, siendo muy parecido al obtenido con el primer algoritmo, por lo que hasta los momentos el modelo obtenido con el algoritmo de Máquinas de Soporte es el mejor.*"
      ],
      "metadata": {
        "id": "fq9-yjdDAYE3"
      }
    },
    {
      "cell_type": "markdown",
      "source": [
        "*Evaluemos ahora el algoritmo de Árboles de Decisión Clasificación, definamos el algoritmo que sería DecisionTreeClassifier, seguidamente lo entrenamos y realizamos una predicción y seguidamente calculamos la precisión del mismo.*"
      ],
      "metadata": {
        "id": "GyN5rwAuAeYY"
      }
    },
    {
      "cell_type": "code",
      "source": [
        "#Modelo de Árboles de Decisión Clasificación\n",
        "algoritmo = DecisionTreeClassifier()\n",
        "algoritmo.fit(X_train, y_train)\n",
        "Y_pred = algoritmo.predict(X_test)\n",
        "print('Precisión Árboles de Decisión Clasificación: {}'.format(algoritmo.score(X_train, y_train)))"
      ],
      "metadata": {
        "colab": {
          "base_uri": "https://localhost:8080/"
        },
        "id": "q9gZn2pkAjAP",
        "outputId": "600b0893-0932-44dc-921f-ff2c1c8a8d9d"
      },
      "execution_count": 44,
      "outputs": [
        {
          "output_type": "stream",
          "name": "stdout",
          "text": [
            "Precisión Árboles de Decisión Clasificación: 1.0\n"
          ]
        }
      ]
    },
    {
      "cell_type": "markdown",
      "source": [
        "*Acá el resultado es igual a 1, es decir que se puede decir que este modelo es perfecto, por lo que sería el ideal para realizar las próximas predicciones.*"
      ],
      "metadata": {
        "id": "Jzu6Z-d1ApA4"
      }
    },
    {
      "cell_type": "markdown",
      "source": [
        "*Con esto tenemos un modelo creado con todo el conjunto de datos, **ahora vamos a desarrollar y evaluar un nuevo modelo pero esta vez solamente con los datos correspondientes al sépalo, es decir que este modelo solamente evaluara estos datos más no los del pétalo** .*\n",
        "\n",
        "*El procedimiento es muy parecido al anterior la diferencia son los datos que tomares para construir el modelo, entonces empecemos el desarrollo.*\n",
        "\n",
        "L*o primero es definir los datos, como son exclusivamente los del sépalo debemos seleccionar estas columnas, que sería el de la longitud y ancho del sépalo y obviamente la columna correspondiente a la de especies.*"
      ],
      "metadata": {
        "id": "IaQBB7iHAuZB"
      }
    },
    {
      "cell_type": "code",
      "source": [
        "#Separo todos los datos con las características y las etiquetas o resultados\n",
        "sepalo = iris[['SepalLengthCm','SepalWidthCm','Species']]"
      ],
      "metadata": {
        "id": "CDInPxJiBEmM"
      },
      "execution_count": 45,
      "outputs": []
    },
    {
      "cell_type": "markdown",
      "source": [
        "*Definido los datos ahora procedemos a separar las características con las etiquetas, a estos datos los vamos a llamar X_sepalo y Y_sepalo.*"
      ],
      "metadata": {
        "id": "l0Gs7TyPBK25"
      }
    },
    {
      "cell_type": "code",
      "source": [
        "X_sepalo = np.array(sepalo.drop(['Species'], 1))\n",
        "y_sepalo = np.array(sepalo['Species'])"
      ],
      "metadata": {
        "colab": {
          "base_uri": "https://localhost:8080/"
        },
        "id": "jVKM1rbRBOIw",
        "outputId": "64915066-f27c-46d4-cb81-ebee26e89d5e"
      },
      "execution_count": 47,
      "outputs": [
        {
          "output_type": "stream",
          "name": "stderr",
          "text": [
            "/usr/local/lib/python3.7/dist-packages/ipykernel_launcher.py:1: FutureWarning: In a future version of pandas all arguments of DataFrame.drop except for the argument 'labels' will be keyword-only\n",
            "  \"\"\"Entry point for launching an IPython kernel.\n"
          ]
        }
      ]
    },
    {
      "cell_type": "markdown",
      "source": [
        "*Ahora procedemos a separar los datos de entrenamiento y prueba para proceder a construir los modelos.*"
      ],
      "metadata": {
        "id": "WrzbnPZSBUKu"
      }
    },
    {
      "cell_type": "code",
      "source": [
        "#Separo los datos de \"train\" en entrenamiento y prueba para probar los algoritmos\n",
        "X_train_s, X_test_s, y_train_s, y_test_s = train_test_split(X_sepalo, y_sepalo, test_size=0.2)\n",
        "\n",
        "print('Son {} datos sépalo para entrenamiento y {} datos sépalo para prueba'.format(X_train.shape[0], X_test.shape[0]))"
      ],
      "metadata": {
        "colab": {
          "base_uri": "https://localhost:8080/"
        },
        "id": "ZH9VS2XfBWhu",
        "outputId": "0c872239-4d5d-48b3-bfb7-dc95f624294a"
      },
      "execution_count": 48,
      "outputs": [
        {
          "output_type": "stream",
          "name": "stdout",
          "text": [
            "Son 120 datos sépalo para entrenamiento y 30 datos sépalo para prueba\n"
          ]
        }
      ]
    },
    {
      "cell_type": "markdown",
      "source": [
        "*Comencemos con el algoritmo de Regresión Logística, el procedimiento es exactamente igual que hicimos anteriormente, definimos el algoritmo, lo entrenamos, realizamos una predicción y calculamos la precisión del modelo. Ten la precaución acá que los datos que utilizamos deberán ser los correspondientes al sépalo únicamente.*"
      ],
      "metadata": {
        "id": "GZ56CAByBZd-"
      }
    },
    {
      "cell_type": "code",
      "source": [
        "#Separo los datos de \"train\" en entrenamiento y prueba para probar los algoritmos\n",
        "X_train_s, X_test_s, y_train_s, y_test_s = train_test_split(X_sepalo, y_sepalo, test_size=0.2)"
      ],
      "metadata": {
        "id": "HOfG-jETBc7O"
      },
      "execution_count": 50,
      "outputs": []
    },
    {
      "cell_type": "code",
      "source": [
        "#Modelo de Regresión Logística\n",
        "algoritmo = LogisticRegression()\n",
        "algoritmo.fit(X_train_s, y_train_s)\n",
        "Y_pred = algoritmo.predict(X_test_s)\n",
        "print('Precisión Regresión Logística - Sépalo: {}'.format(algoritmo.score(X_train_s, y_train_s)))"
      ],
      "metadata": {
        "colab": {
          "base_uri": "https://localhost:8080/"
        },
        "id": "q6LRshwiBg7X",
        "outputId": "1ea666cd-5976-4341-c1bd-d8638aadc817"
      },
      "execution_count": 51,
      "outputs": [
        {
          "output_type": "stream",
          "name": "stdout",
          "text": [
            "Precisión Regresión Logística - Sépalo: 0.8\n"
          ]
        }
      ]
    },
    {
      "cell_type": "markdown",
      "source": [
        "*La precisión de este modelo es de 0,75 lo que cual no es tan bueno, por lo que tenemos que evaluar otros algoritmos para verificar si podemos obtener algo mejor.*"
      ],
      "metadata": {
        "id": "dgokDcRqBwRX"
      }
    },
    {
      "cell_type": "markdown",
      "source": [
        "*Por lo tanto, ahora desarrollemos un modelo utilizando el algoritmo de Máquinas de Vectores de Soporte, igual que anteriormente, definimos el algoritmo, lo entrenamos, realizamos una predicción y finalmente calculamos la precisión.*"
      ],
      "metadata": {
        "id": "bkUAbANZBy-1"
      }
    },
    {
      "cell_type": "code",
      "source": [
        "#Modelo de Máquinas de Vectores de Soporte\n",
        "algoritmo = SVC()\n",
        "algoritmo.fit(X_train_s, y_train_s)\n",
        "Y_pred = algoritmo.predict(X_test_s)\n",
        "print('Precisión Máquinas de Vectores de Soporte - Sépalo: {}'.format(algoritmo.score(X_train_s, y_train_s)))"
      ],
      "metadata": {
        "colab": {
          "base_uri": "https://localhost:8080/"
        },
        "id": "UUydcFZLB1rJ",
        "outputId": "2da48a54-0234-477a-a97c-20a018ec1abc"
      },
      "execution_count": 52,
      "outputs": [
        {
          "output_type": "stream",
          "name": "stdout",
          "text": [
            "Precisión Máquinas de Vectores de Soporte - Sépalo: 0.7916666666666666\n"
          ]
        }
      ]
    },
    {
      "cell_type": "markdown",
      "source": [
        "*El resultado obtenido es de 0,825, el cual mejoro comparándolo con el anterior algoritmo, aunque no es el mejor resultado.*"
      ],
      "metadata": {
        "id": "EYKnJVF2B4gO"
      }
    },
    {
      "cell_type": "markdown",
      "source": [
        "*Evaluemos el algoritmo de K Vecinos más Cercanos, definimos el algoritmo en nuestro programa, entrenamos el modelo, realizamos una predicción y calculamos la precisión del modelo.*"
      ],
      "metadata": {
        "id": "jXUSjIOMB7OA"
      }
    },
    {
      "cell_type": "code",
      "source": [
        "#Modelo de Vecinos más Cercanos\n",
        "algoritmo = KNeighborsClassifier(n_neighbors=5)\n",
        "algoritmo.fit(X_train_s, y_train_s)\n",
        "Y_pred = algoritmo.predict(X_test_s)\n",
        "print('Precisión Vecinos más Cercanos - Sépalo: {}'.format(algoritmo.score(X_train_s, y_train_s)))"
      ],
      "metadata": {
        "colab": {
          "base_uri": "https://localhost:8080/"
        },
        "id": "YLBp4A-uB-O-",
        "outputId": "9409652f-9d39-425e-c816-e8312cdbb42c"
      },
      "execution_count": 53,
      "outputs": [
        {
          "output_type": "stream",
          "name": "stdout",
          "text": [
            "Precisión Vecinos más Cercanos - Sépalo: 0.825\n"
          ]
        }
      ]
    },
    {
      "cell_type": "markdown",
      "source": [
        "*La precisión de este algoritmo es de 0,825, muy parecido al anterior algoritmo, pero aún este resultado no es muy optimo.*"
      ],
      "metadata": {
        "id": "VUFNveDRCCDI"
      }
    },
    {
      "cell_type": "markdown",
      "source": [
        "*Por lo que evaluemos el último algoritmo que sería Árboles de Decisión Clasificación, igual que anteriormente y utilizando los datos correspondientes al sépalo, definimos el algoritmo, lo entrenamos, realizamos una predicción y calculamos la precisión.*"
      ],
      "metadata": {
        "id": "aucMRA6uCEnX"
      }
    },
    {
      "cell_type": "code",
      "source": [
        "#Modelo de Árboles de Decisión Clasificación\n",
        "algoritmo = DecisionTreeClassifier()\n",
        "algoritmo.fit(X_train_s, y_train_s)\n",
        "Y_pred = algoritmo.predict(X_test_s)\n",
        "print('Precisión Árboles de Decisión Clasificación - Sépalo: {}'.format(algoritmo.score(X_train_s, y_train_s)))"
      ],
      "metadata": {
        "colab": {
          "base_uri": "https://localhost:8080/"
        },
        "id": "m8qnozQQCHPl",
        "outputId": "45b146dd-345f-4bb4-cadc-65b7887ab42e"
      },
      "execution_count": 54,
      "outputs": [
        {
          "output_type": "stream",
          "name": "stdout",
          "text": [
            "Precisión Árboles de Decisión Clasificación - Sépalo: 0.95\n"
          ]
        }
      ]
    },
    {
      "cell_type": "markdown",
      "source": [
        "*El resultado es de 0,941, siendo este el mejor de los resultados por lo que este es el mejor modelo de todos.*"
      ],
      "metadata": {
        "id": "jF_5u3zjCJ8l"
      }
    },
    {
      "cell_type": "markdown",
      "source": [
        "**Ahora desarrollemos el último de los modelos que vamos hacer en este proyecto, para este vamos a utilizar los datos correspondientes al pétalo, tanto longitud como ancho y por supuesto la columna de especies que sería la etiqueta.**"
      ],
      "metadata": {
        "id": "1RUjdQDeCPjO"
      }
    },
    {
      "cell_type": "markdown",
      "source": [
        "*El procedimiento acá es exactamente igual al anterior, la única diferencia son los datos que vamos a tomar para entrenar el modelo, entonces empecemos con este desarrollo.*"
      ],
      "metadata": {
        "id": "4DIZhPN2CUAF"
      }
    },
    {
      "cell_type": "markdown",
      "source": [
        "*Lo primero que debemos hacer es definir las columnas con las que vamos a trabajar, como ya lo indicamos son las correspondientes al pétalo.*"
      ],
      "metadata": {
        "id": "LyF1GhfKCZS2"
      }
    },
    {
      "cell_type": "code",
      "source": [
        "petalo = iris[['PetalLengthCm','PetalWidthCm','Species']]"
      ],
      "metadata": {
        "id": "I3CHB1FhCc3V"
      },
      "execution_count": 55,
      "outputs": []
    },
    {
      "cell_type": "markdown",
      "source": [
        "*Seguidamente separamos las columnas correspondientes a las características con las etiquetas.*"
      ],
      "metadata": {
        "id": "LS7ub5KzCg0t"
      }
    },
    {
      "cell_type": "code",
      "source": [
        "X_petalo = np.array(petalo.drop(['Species'], 1))\n",
        "y_petalo = np.array(petalo['Species'])"
      ],
      "metadata": {
        "colab": {
          "base_uri": "https://localhost:8080/"
        },
        "id": "h5W49oOJCjf9",
        "outputId": "4a55f477-f124-4dac-c511-e292ac33f19c"
      },
      "execution_count": 56,
      "outputs": [
        {
          "output_type": "stream",
          "name": "stderr",
          "text": [
            "/usr/local/lib/python3.7/dist-packages/ipykernel_launcher.py:1: FutureWarning: In a future version of pandas all arguments of DataFrame.drop except for the argument 'labels' will be keyword-only\n",
            "  \"\"\"Entry point for launching an IPython kernel.\n"
          ]
        }
      ]
    },
    {
      "cell_type": "markdown",
      "source": [
        "*Procedemos a separar los datos de entrenamiento con los de pruebas.*"
      ],
      "metadata": {
        "id": "qn0sb0KeCnMt"
      }
    },
    {
      "cell_type": "code",
      "source": [
        "#Separo los datos de \"train\" en entrenamiento y prueba para probar los algoritmos\n",
        "X_train_p, X_test_p, y_train_p, y_test_p = train_test_split(X_petalo, y_petalo, test_size=0.2)\n",
        "\n",
        "print('Son {} datos pétalo para entrenamiento y {} datos pétalo para prueba'.format(X_train.shape[0], X_test.shape[0]))"
      ],
      "metadata": {
        "colab": {
          "base_uri": "https://localhost:8080/"
        },
        "id": "HJppXkmMCreQ",
        "outputId": "075ef605-4724-43f0-eea2-ee5ede09337d"
      },
      "execution_count": 57,
      "outputs": [
        {
          "output_type": "stream",
          "name": "stdout",
          "text": [
            "Son 120 datos pétalo para entrenamiento y 30 datos pétalo para prueba\n"
          ]
        }
      ]
    },
    {
      "cell_type": "markdown",
      "source": [
        "*Con esto ya podemos realizar las pruebas respectivas con cada uno de los algoritmos igual que lo hicimos anteriormente.*"
      ],
      "metadata": {
        "id": "0qd0fJYICxNd"
      }
    },
    {
      "cell_type": "markdown",
      "source": [
        "*Comencemos con el algoritmo de Regresión Logística.*"
      ],
      "metadata": {
        "id": "XMOXfIWACzbW"
      }
    },
    {
      "cell_type": "code",
      "source": [
        "#Modelo de Regresión Logística\n",
        "algoritmo = LogisticRegression()\n",
        "algoritmo.fit(X_train_p, y_train_p)\n",
        "Y_pred = algoritmo.predict(X_test_p)\n",
        "print('Precisión Regresión Logística - Pétalo: {}'.format(algoritmo.score(X_train_p, y_train_p)))"
      ],
      "metadata": {
        "colab": {
          "base_uri": "https://localhost:8080/"
        },
        "id": "JgN2sYMkC1Jd",
        "outputId": "fe5c20ce-4ce4-4291-cbe8-b3cdc0430979"
      },
      "execution_count": 58,
      "outputs": [
        {
          "output_type": "stream",
          "name": "stdout",
          "text": [
            "Precisión Regresión Logística - Pétalo: 0.975\n"
          ]
        }
      ]
    },
    {
      "cell_type": "markdown",
      "source": [
        "*Con este algoritmo obtenemos 0,891, que no es un buen resultado, por lo que debemos continuar con las pruebas.*"
      ],
      "metadata": {
        "id": "-hEWt6C2C9PV"
      }
    },
    {
      "cell_type": "markdown",
      "source": [
        "*Ahora desarrollamos el algoritmo de Máquinas de Vectores de Soporte.*"
      ],
      "metadata": {
        "id": "BkpfdZQOC_qm"
      }
    },
    {
      "cell_type": "code",
      "source": [
        "#Modelo de Máquinas de Vectores de Soporte\n",
        "algoritmo = SVC()\n",
        "algoritmo.fit(X_train_p, y_train_p)\n",
        "Y_pred = algoritmo.predict(X_test_p)\n",
        "print('Precisión Máquinas de Vectores de Soporte - Pétalo: {}'.format(algoritmo.score(X_train_p, y_train_p)))"
      ],
      "metadata": {
        "colab": {
          "base_uri": "https://localhost:8080/"
        },
        "id": "DNlfdP2vDCZG",
        "outputId": "650a8670-86ac-4ff6-9236-662cc1762766"
      },
      "execution_count": 59,
      "outputs": [
        {
          "output_type": "stream",
          "name": "stdout",
          "text": [
            "Precisión Máquinas de Vectores de Soporte - Pétalo: 0.9666666666666667\n"
          ]
        }
      ]
    },
    {
      "cell_type": "markdown",
      "source": [
        "*La precisión de este algoritmo es de 0,958, lo que es un resultado mucho mejor que el obtenido con el anterior algoritmo.*"
      ],
      "metadata": {
        "id": "mhksauqkDEkc"
      }
    },
    {
      "cell_type": "markdown",
      "source": [
        "*Evaluemos el algoritmo de K Vecinos más Cercanos.*"
      ],
      "metadata": {
        "id": "R0pdaIeDDF48"
      }
    },
    {
      "cell_type": "code",
      "source": [
        "#Modelo de Vecinos más Cercanos\n",
        "algoritmo = KNeighborsClassifier(n_neighbors=5)\n",
        "algoritmo.fit(X_train_p, y_train_p)\n",
        "Y_pred = algoritmo.predict(X_test_p)\n",
        "print('Precisión Vecinos más Cercanos - Pétalo: {}'.format(algoritmo.score(X_train_p, y_train_p)))"
      ],
      "metadata": {
        "colab": {
          "base_uri": "https://localhost:8080/"
        },
        "id": "KDwx-_KODK-2",
        "outputId": "5b31a122-8b2c-42cd-d2db-0c3b25876a5a"
      },
      "execution_count": 60,
      "outputs": [
        {
          "output_type": "stream",
          "name": "stdout",
          "text": [
            "Precisión Vecinos más Cercanos - Pétalo: 0.9666666666666667\n"
          ]
        }
      ]
    },
    {
      "cell_type": "markdown",
      "source": [
        "*Con este algoritmo se obtuvo una precisión de 0,975, que es un resultado bueno pero es mucho mejor el obtenido con el anterior algoritmo.*"
      ],
      "metadata": {
        "id": "RL54te5RDO4M"
      }
    },
    {
      "cell_type": "markdown",
      "source": [
        "*Finalizamos realizando las pruebas con el algoritmo de Árboles de Decisión Clasificación.*"
      ],
      "metadata": {
        "id": "cGosEUcmDRNE"
      }
    },
    {
      "cell_type": "code",
      "source": [
        "#Modelo de Árboles de Decisión Clasificación\n",
        "algoritmo = DecisionTreeClassifier()\n",
        "algoritmo.fit(X_train_p, y_train_p)\n",
        "Y_pred = algoritmo.predict(X_test_p)\n",
        "print('Precisión Árboles de Decisión Clasificación - Pétalo: {}'.format(algoritmo.score(X_train_p, y_train_p)))"
      ],
      "metadata": {
        "colab": {
          "base_uri": "https://localhost:8080/"
        },
        "id": "x5TkhtRADT7r",
        "outputId": "c8475fa1-f3c8-4251-f0d8-93c21a86995f"
      },
      "execution_count": 61,
      "outputs": [
        {
          "output_type": "stream",
          "name": "stdout",
          "text": [
            "Precisión Árboles de Decisión Clasificación - Pétalo: 1.0\n"
          ]
        }
      ]
    },
    {
      "cell_type": "markdown",
      "source": [
        "*La precisión de este algoritmo es de 1, lo cual es el mejor resultado de todos los algoritmos que evaluamos con estos datos.*"
      ],
      "metadata": {
        "id": "8DqQejEhDXiW"
      }
    },
    {
      "cell_type": "markdown",
      "source": [],
      "metadata": {
        "id": "exvF-qZdDmVt"
      }
    }
  ]
}